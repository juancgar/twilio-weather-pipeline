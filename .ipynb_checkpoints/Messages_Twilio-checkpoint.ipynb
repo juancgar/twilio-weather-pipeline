{
 "cells": [
  {
   "cell_type": "code",
   "execution_count": 2,
   "id": "8482f91d",
   "metadata": {},
   "outputs": [],
   "source": [
    "#!pip install twilio,python-dotenv"
   ]
  },
  {
   "cell_type": "code",
   "execution_count": 6,
   "id": "07200c97",
   "metadata": {},
   "outputs": [],
   "source": [
    "import pandas as pd\n",
    "import os\n",
    "\n",
    "from requests import Request, Session\n",
    "from requests.exceptions import ConnectionError, Timeout, TooManyRedirects\n",
    "\n",
    "import requests\n",
    "from bs4 import BeautifulSoup\n",
    "from tqdm import tqdm\n",
    "\n",
    "from datetime import datetime\n",
    "\n",
    "from twilio.rest import Client\n",
    "import time\n"
   ]
  },
  {
   "cell_type": "code",
   "execution_count": 27,
   "id": "afc17af7",
   "metadata": {},
   "outputs": [],
   "source": [
    "from dotenv import load_dotenv\n",
    "\n",
    "load_dotenv(dotenv_path=\"Config.env\")\n",
    "\n",
    "twilio_acc = os.getenv('TWILIO_ACC')\n",
    "twilio_secret = os.getenv('TWILIO_SECRET')\n",
    "twilio_phone = os.getenv('TWILIO_PHONE')\n",
    "WEATHER_API = os.getenv('WEATHER_API')"
   ]
  },
  {
   "cell_type": "markdown",
   "id": "b9383afe",
   "metadata": {},
   "source": [
    "# Api call "
   ]
  },
  {
   "cell_type": "code",
   "execution_count": 29,
   "id": "1218e2a6",
   "metadata": {},
   "outputs": [],
   "source": [
    "query = 'Monterrey'\n",
    "url = \"http://api.weatherapi.com/v1/current.json?key=\" + WEATHER_API + \"&q=\" + query + \"&days=1&aqi=no&alerts=no\""
   ]
  },
  {
   "cell_type": "code",
   "execution_count": 34,
   "id": "25092da7",
   "metadata": {},
   "outputs": [],
   "source": [
    "response = requests.get(url).json()"
   ]
  },
  {
   "cell_type": "raw",
   "id": "a48eeb1f",
   "metadata": {},
   "source": [
    "\n"
   ]
  },
  {
   "cell_type": "code",
   "execution_count": null,
   "id": "86266e96",
   "metadata": {},
   "outputs": [],
   "source": []
  }
 ],
 "metadata": {
  "kernelspec": {
   "display_name": "Python 3 (ipykernel)",
   "language": "python",
   "name": "python3"
  },
  "language_info": {
   "codemirror_mode": {
    "name": "ipython",
    "version": 3
   },
   "file_extension": ".py",
   "mimetype": "text/x-python",
   "name": "python",
   "nbconvert_exporter": "python",
   "pygments_lexer": "ipython3",
   "version": "3.10.9"
  }
 },
 "nbformat": 4,
 "nbformat_minor": 5
}
