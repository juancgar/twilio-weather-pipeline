{
 "cells": [
  {
   "cell_type": "code",
   "execution_count": 10,
   "id": "3f6a0c34",
   "metadata": {},
   "outputs": [],
   "source": [
    "import pandas as pd\n",
    "import os\n",
    "\n",
    "from requests import Request, Session\n",
    "from requests.exceptions import ConnectionError, Timeout, TooManyRedirects\n",
    "\n",
    "from datetime import date\n",
    "from datetime import timedelta\n",
    "\n",
    "import requests\n",
    "from bs4 import BeautifulSoup\n",
    "from tqdm import tqdm\n",
    "\n",
    "from io import BytesIO\n",
    "\n",
    "import boto3, os, io\n",
    "\n",
    "from datetime import datetime\n",
    "\n",
    "from twilio.rest import Client\n",
    "import time\n"
   ]
  },
  {
   "cell_type": "code",
   "execution_count": 11,
   "id": "175364ac",
   "metadata": {},
   "outputs": [],
   "source": [
    "from dotenv import load_dotenv\n",
    "\n",
    "load_dotenv(dotenv_path=\"Config.env\")\n",
    "\n",
    "twilio_acc = os.getenv('TWILIO_ACC')\n",
    "twilio_secret = os.getenv('TWILIO_SECRET')\n",
    "twilio_phone = os.getenv('TWILIO_PHONE')\n",
    "WEATHER_API = os.getenv('WEATHER_API')\n",
    "\n",
    "my_key= os.getenv('AWS_KEY') \n",
    "my_secret= os.getenv('AWS_SECRET')\n",
    "\n",
    "query = 'Poza Rica'\n"
   ]
  },
  {
   "cell_type": "code",
   "execution_count": 12,
   "id": "87fd1a00",
   "metadata": {},
   "outputs": [],
   "source": [
    "def GetResponse(city,dateQuery,WEATHER_API):\n",
    "    url = \"http://api.weatherapi.com/v1/history.json?key=\" + WEATHER_API + \"&q=\" + city + \"&dt=\" + dateQuery\n",
    "    return requests.get(url).json()"
   ]
  },
  {
   "cell_type": "code",
   "execution_count": 13,
   "id": "822ab6d6",
   "metadata": {},
   "outputs": [],
   "source": [
    "def get_forecast(response,i):\n",
    "    general = response['forecast']['forecastday'][0]['hour'][i]\n",
    "    fecha= general['time'].split()[0]\n",
    "    hour = general['time'].split()[1].split(\":\")[0]\n",
    "    condition = general[\"condition\"]['text']\n",
    "    temp_C = general[\"temp_c\"]\n",
    "    will_rain = general[\"will_it_rain\"]\n",
    "    chance_of_rain = general['chance_of_rain']\n",
    "    \n",
    "    return fecha,hour,condition,temp_C,will_rain,chance_of_rain\n",
    "def getTimeForecastData(response):\n",
    "    data = []\n",
    "    for x in tqdm(range(len(response['forecast']['forecastday'][0]['hour'])),colour=\"green\"):\n",
    "        data.append(get_forecast(response,x))\n",
    "    return data"
   ]
  },
  {
   "cell_type": "code",
   "execution_count": 36,
   "id": "de69a92f",
   "metadata": {},
   "outputs": [],
   "source": [
    "bucket_name = 'weather-innova-proto'\n",
    "\n",
    "\n",
    "def UploadToS3(query,dateQuery,bucket_name,my_key,my_secret,data):\n",
    "    filename = query +\"-\"+dateQuery\n",
    "    filename = filename.replace(\" \",\"\") + '.csv'\n",
    "    s3 = boto3.resource('s3',aws_access_key_id=my_key,aws_secret_access_key=my_secret) \n",
    "    csv_buf = BytesIO()\n",
    "    data.to_csv(csv_buf, header=True, index=False)\n",
    "    csv_buf.seek(0)\n",
    "    try:\n",
    "        s3.Object(bucket_name, filename).put(Body=csv_buf)\n",
    "        return \"succesful upload\"\n",
    "    except(e):\n",
    "        return e\n",
    "    \n",
    "    "
   ]
  },
  {
   "cell_type": "code",
   "execution_count": 37,
   "id": "c6ae4611",
   "metadata": {},
   "outputs": [],
   "source": [
    "def UploadDateRange(city,dateStart,numberDays,S3bucket,S3Key,S3secret,weatherApiKey):\n",
    "    for x in range(numberDays):\n",
    "        dateToQuery = (dateStart - timedelta(days = x)).strftime(\"%Y-%m-%d\")\n",
    "        response = GetResponse(query,dateToQuery,weatherApiKey)\n",
    "        data = getTimeForecastData(response)\n",
    "        col = [\"fecha\",\"hour\",\"condition\",\"temp_C\",\"will_rain\",\"chance_of_rain\"]\n",
    "        df = pd.DataFrame(data,columns=col)\n",
    "        UploadToS3(city,dateToQuery,S3bucket,S3Key,S3secret,df)\n",
    "    return \"Complete Succefully\"\n",
    "    "
   ]
  },
  {
   "cell_type": "code",
   "execution_count": 38,
   "id": "225c95d2",
   "metadata": {},
   "outputs": [
    {
     "name": "stderr",
     "output_type": "stream",
     "text": [
      "100%|\u001b[32m██████████████████████████████████████████████████████████████████████████████████████████\u001b[0m| 24/24 [00:00<?, ?it/s]\u001b[0m\n",
      "100%|\u001b[32m███████████████████████████████████████████████████████████████████████████████\u001b[0m| 24/24 [00:00<00:00, 24036.13it/s]\u001b[0m\n",
      "100%|\u001b[32m██████████████████████████████████████████████████████████████████████████████████████████\u001b[0m| 24/24 [00:00<?, ?it/s]\u001b[0m\n",
      "100%|\u001b[32m███████████████████████████████████████████████████████████████████████████████\u001b[0m| 24/24 [00:00<00:00, 23921.89it/s]\u001b[0m\n",
      "100%|\u001b[32m██████████████████████████████████████████████████████████████████████████████████████████\u001b[0m| 24/24 [00:00<?, ?it/s]\u001b[0m\n",
      "100%|\u001b[32m██████████████████████████████████████████████████████████████████████████████████████████\u001b[0m| 24/24 [00:00<?, ?it/s]\u001b[0m\n",
      "100%|\u001b[32m██████████████████████████████████████████████████████████████████████████████████████████\u001b[0m| 24/24 [00:00<?, ?it/s]\u001b[0m\n",
      "100%|\u001b[32m██████████████████████████████████████████████████████████████████████████████████████████\u001b[0m| 24/24 [00:00<?, ?it/s]\u001b[0m\n",
      "100%|\u001b[32m██████████████████████████████████████████████████████████████████████████████████████████\u001b[0m| 24/24 [00:00<?, ?it/s]\u001b[0m\n",
      "100%|\u001b[32m██████████████████████████████████████████████████████████████████████████████████████████\u001b[0m| 24/24 [00:00<?, ?it/s]\u001b[0m\n",
      "100%|\u001b[32m██████████████████████████████████████████████████████████████████████████████████████████\u001b[0m| 24/24 [00:00<?, ?it/s]\u001b[0m\n",
      "100%|\u001b[32m██████████████████████████████████████████████████████████████████████████████████████████\u001b[0m| 24/24 [00:00<?, ?it/s]\u001b[0m\n",
      "100%|\u001b[32m██████████████████████████████████████████████████████████████████████████████████████████\u001b[0m| 24/24 [00:00<?, ?it/s]\u001b[0m\n",
      "100%|\u001b[32m██████████████████████████████████████████████████████████████████████████████████████████\u001b[0m| 24/24 [00:00<?, ?it/s]\u001b[0m\n",
      "100%|\u001b[32m██████████████████████████████████████████████████████████████████████████████████████████\u001b[0m| 24/24 [00:00<?, ?it/s]\u001b[0m\n"
     ]
    },
    {
     "data": {
      "text/plain": [
       "'Complete Succefully'"
      ]
     },
     "execution_count": 38,
     "metadata": {},
     "output_type": "execute_result"
    }
   ],
   "source": [
    "UploadDateRange(query,date.today(),15,bucket_name,my_key,my_secret,WEATHER_API)"
   ]
  },
  {
   "cell_type": "code",
   "execution_count": null,
   "id": "1c9cfc6e",
   "metadata": {},
   "outputs": [],
   "source": []
  }
 ],
 "metadata": {
  "kernelspec": {
   "display_name": "Python 3 (ipykernel)",
   "language": "python",
   "name": "python3"
  },
  "language_info": {
   "codemirror_mode": {
    "name": "ipython",
    "version": 3
   },
   "file_extension": ".py",
   "mimetype": "text/x-python",
   "name": "python",
   "nbconvert_exporter": "python",
   "pygments_lexer": "ipython3",
   "version": "3.10.9"
  }
 },
 "nbformat": 4,
 "nbformat_minor": 5
}
