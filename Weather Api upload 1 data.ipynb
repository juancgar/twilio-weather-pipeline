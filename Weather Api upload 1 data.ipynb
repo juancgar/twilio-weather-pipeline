{
 "cells": [
  {
   "cell_type": "code",
   "execution_count": 1,
   "id": "9674a386",
   "metadata": {},
   "outputs": [],
   "source": [
    "#!pip install twilio,python-dotenv"
   ]
  },
  {
   "cell_type": "code",
   "execution_count": 161,
   "id": "ab405e08",
   "metadata": {},
   "outputs": [],
   "source": [
    "import pandas as pd\n",
    "import os\n",
    "\n",
    "from requests import Request, Session\n",
    "from requests.exceptions import ConnectionError, Timeout, TooManyRedirects\n",
    "\n",
    "from datetime import date\n",
    "from datetime import timedelta\n",
    "\n",
    "import requests\n",
    "from bs4 import BeautifulSoup\n",
    "from tqdm import tqdm\n",
    "\n",
    "from io import BytesIO\n",
    "\n",
    "import boto3, os, io\n",
    "\n",
    "from datetime import datetime\n",
    "\n",
    "from twilio.rest import Client\n",
    "import time\n"
   ]
  },
  {
   "cell_type": "code",
   "execution_count": 162,
   "id": "897131a8",
   "metadata": {},
   "outputs": [],
   "source": [
    "from dotenv import load_dotenv\n",
    "\n",
    "load_dotenv(dotenv_path=\"Config.env\")\n",
    "\n",
    "twilio_acc = os.getenv('TWILIO_ACC')\n",
    "twilio_secret = os.getenv('TWILIO_SECRET')\n",
    "twilio_phone = os.getenv('TWILIO_PHONE')\n",
    "WEATHER_API = os.getenv('WEATHER_API')\n",
    "\n",
    "my_key= os.getenv('AWS_KEY') \n",
    "my_secret= os.getenv('AWS_SECRET')"
   ]
  },
  {
   "cell_type": "markdown",
   "id": "d624d54d",
   "metadata": {},
   "source": [
    "# Api call "
   ]
  },
  {
   "cell_type": "code",
   "execution_count": 163,
   "id": "bbc4fcbe",
   "metadata": {},
   "outputs": [],
   "source": [
    "def GetResponse(city,dateQuery,WEATHER_API):\n",
    "    url = \"http://api.weatherapi.com/v1/history.json?key=\" + WEATHER_API + \"&q=\" + city + \"&dt=\" + dateQuery\n",
    "    return requests.get(url).json()"
   ]
  },
  {
   "cell_type": "code",
   "execution_count": 164,
   "id": "16cd5c33",
   "metadata": {},
   "outputs": [
    {
     "data": {
      "text/plain": [
       "'2023-08-15'"
      ]
     },
     "execution_count": 164,
     "metadata": {},
     "output_type": "execute_result"
    }
   ],
   "source": [
    "query = 'Poza Rica'\n",
    "dateToSearch = date.today()\n",
    "dateQuery = dateToSearch.strftime(\"%Y-%m-%d\")\n",
    "dateQuery"
   ]
  },
  {
   "cell_type": "code",
   "execution_count": 165,
   "id": "fa6d61f5",
   "metadata": {},
   "outputs": [],
   "source": [
    "responseApi = GetResponse(query,dateQuery,WEATHER_API)"
   ]
  },
  {
   "cell_type": "code",
   "execution_count": 166,
   "id": "d16264be",
   "metadata": {},
   "outputs": [],
   "source": [
    "def get_forecast(response,i):\n",
    "    general = response['forecast']['forecastday'][0]['hour'][i]\n",
    "    fecha= general['time'].split()[0]\n",
    "    hour = general['time'].split()[1].split(\":\")[0]\n",
    "    condition = general[\"condition\"]['text']\n",
    "    temp_C = general[\"temp_c\"]\n",
    "    will_rain = general[\"will_it_rain\"]\n",
    "    chance_of_rain = general['chance_of_rain']\n",
    "    \n",
    "    return fecha,hour,condition,temp_C,will_rain,chance_of_rain\n",
    "def getTimeForecastData(response):\n",
    "    data = []\n",
    "    for x in tqdm(range(len(response['forecast']['forecastday'][0]['hour'])),colour=\"green\"):\n",
    "        data.append(get_forecast(response,x))\n",
    "    return data"
   ]
  },
  {
   "cell_type": "code",
   "execution_count": 167,
   "id": "7b1ed7f9",
   "metadata": {},
   "outputs": [
    {
     "name": "stderr",
     "output_type": "stream",
     "text": [
      "100%|\u001b[32m██████████████████████████████████████████████████████████████████████████████████████████\u001b[0m| 24/24 [00:00<?, ?it/s]\u001b[0m\n"
     ]
    }
   ],
   "source": [
    "data = getTimeForecastData(responseApi)"
   ]
  },
  {
   "cell_type": "code",
   "execution_count": 168,
   "id": "3d3322bb",
   "metadata": {},
   "outputs": [],
   "source": [
    "col = [\"fecha\",\"hour\",\"condition\",\"temp_C\",\"will_rain\",\"chance_of_rain\"]\n",
    "df = pd.DataFrame(data,columns=col)"
   ]
  },
  {
   "cell_type": "code",
   "execution_count": 169,
   "id": "320906f0",
   "metadata": {},
   "outputs": [],
   "source": [
    "bucket_name = 'weather-innova-proto'\n",
    "\n",
    "\n",
    "def UploadToS3(query,dateQuery,bucket_name,my_key,my_secret):\n",
    "    filename = query +\"-\"+dateQuery\n",
    "    filename = filename.replace(\" \",\"\") + '.csv'\n",
    "    s3 = boto3.resource('s3',aws_access_key_id=my_key,aws_secret_access_key=my_secret) \n",
    "    csv_buf = BytesIO()\n",
    "    df.to_csv(csv_buf, header=True, index=False)\n",
    "    csv_buf.seek(0)\n",
    "    try:\n",
    "        s3.Object(bucket_name, filename).put(Body=csv_buf)\n",
    "        return \"succesful upload\"\n",
    "    except(e):\n",
    "        return e\n",
    "    "
   ]
  },
  {
   "cell_type": "code",
   "execution_count": 170,
   "id": "70d7f766",
   "metadata": {},
   "outputs": [
    {
     "data": {
      "text/plain": [
       "'succesful upload'"
      ]
     },
     "execution_count": 170,
     "metadata": {},
     "output_type": "execute_result"
    }
   ],
   "source": [
    "UploadToS3(query,dateQuery,bucket_name,my_key,my_secret)"
   ]
  },
  {
   "cell_type": "code",
   "execution_count": null,
   "id": "a4c54ec7",
   "metadata": {},
   "outputs": [],
   "source": []
  }
 ],
 "metadata": {
  "kernelspec": {
   "display_name": "Python 3 (ipykernel)",
   "language": "python",
   "name": "python3"
  },
  "language_info": {
   "codemirror_mode": {
    "name": "ipython",
    "version": 3
   },
   "file_extension": ".py",
   "mimetype": "text/x-python",
   "name": "python",
   "nbconvert_exporter": "python",
   "pygments_lexer": "ipython3",
   "version": "3.10.9"
  }
 },
 "nbformat": 4,
 "nbformat_minor": 5
}
